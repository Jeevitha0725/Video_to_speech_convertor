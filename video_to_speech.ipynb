{
 "cells": [
  {
   "cell_type": "code",
   "execution_count": 14,
   "id": "698e8351",
   "metadata": {},
   "outputs": [
    {
     "name": "stdout",
     "output_type": "stream",
     "text": [
      "Ho are you doing\n"
     ]
    }
   ],
   "source": [
    "from googletrans import Translator\n",
    "translator = Translator()\n",
    "translation = translator.translate(\"comment allez-vous\", dest='en')\n",
    "print(translation.text)"
   ]
  },
  {
   "cell_type": "code",
   "execution_count": 5,
   "id": "158ba510",
   "metadata": {},
   "outputs": [
    {
     "name": "stdout",
     "output_type": "stream",
     "text": [
      "Wait karo...🙂\n",
      "Transcription completed😁\n",
      "Wait karo...🙂\n",
      "Translation completed😁\n",
      "Wait karo ( text to audio )...🙂\n",
      "Mudinchi Kelambu👽\n"
     ]
    }
   ],
   "source": [
    "from youtube_transcript_api import YouTubeTranscriptApi as yta\n",
    "import re\n",
    "from googletrans import Translator\n",
    "from gtts import gTTS\n",
    "import os\n",
    "print(\"Wait karo...🙂\")\n",
    "vid_id = 'QGUm92osrXY'\n",
    "data = yta.get_transcript(vid_id)\n",
    "transcript = ''\n",
    "for value in data:\n",
    "    for key, val in value.items():\n",
    "        if key=='text':\n",
    "            transcript += val\n",
    "l = transcript.splitlines()\n",
    "final = \" \".join(l)\n",
    "file = open(\"C:/Users/sjeev/Documents/Python/Jupyter_nbook/Intern/vid_text/transs.txt\", 'w')\n",
    "file.write(final)\n",
    "file.close()\n",
    "print(\"Transcription completed😁\")\n",
    "print(\"Wait karo...🙂\")\n",
    "translator = Translator()\n",
    "with open('C:/Users/sjeev/Documents/Python/Jupyter_nbook/Intern/vid_text/transs.txt', 'r') as file:\n",
    "    english_text = file.read()\n",
    "tx = english_text[:16000]\n",
    "translation = translator.translate(tx, dest='it')\n",
    "file2 = open(\"C:/Users/sjeev/Documents/Python/Jupyter_nbook/Intern/vid_text/italy.txt\", 'w')\n",
    "file2.write(str(translation.text))\n",
    "file2.close();\n",
    "print(\"Translation completed😁\")\n",
    "print(\"Wait karo ( text to audio )...🙂\")\n",
    "with open('C:/Users/sjeev/Documents/Python/Jupyter_nbook/Intern/vid_text/italy.txt', 'r') as file:\n",
    "    english_text = file.read()\n",
    "language = 'de'\n",
    "try:\n",
    "    myobj = gTTS(text=english_text, lang=language, slow=False)\n",
    "    myobj.save(\"C:/Users/sjeev/Documents/Python/Jupyter_nbook/Intern/vid_text/audio.mp3\")\n",
    "    print(\"Mudinchi Kelambu👽\")\n",
    "except:\n",
    "    print(\"Oru vela irukumooo 🤔\")"
   ]
  },
  {
   "cell_type": "code",
   "execution_count": 9,
   "id": "ed869c4f",
   "metadata": {},
   "outputs": [
    {
     "name": "stdout",
     "output_type": "stream",
     "text": [
      "Name: googletrans\n",
      "Version: 3.1.0a0\n",
      "Summary: Free Google Translate API for Python. Translates totally free of charge.\n",
      "Home-page: https://github.com/ssut/py-googletrans\n",
      "Author: SuHun Han\n",
      "Author-email: ssut@ssut.me\n",
      "License: MIT\n",
      "Location: C:\\Users\\sjeev\\AppData\\Local\\Programs\\Python\\Python311\\Lib\\site-packages\n",
      "Requires: httpx\n",
      "Required-by: \n",
      "Note: you may need to restart the kernel to use updated packages.\n"
     ]
    }
   ],
   "source": [
    "pip show googletrans"
   ]
  },
  {
   "cell_type": "code",
   "execution_count": 7,
   "id": "2e1beca8",
   "metadata": {},
   "outputs": [
    {
     "name": "stdout",
     "output_type": "stream",
     "text": [
      "Wait karo...🙂\n",
      "Transcription completed😁\n",
      "Wait karo...🙂\n",
      "Translation completed😁\n",
      "Wait karo ( text to audio )...🙂\n",
      "Done\n"
     ]
    }
   ],
   "source": [
    "from youtube_transcript_api import YouTubeTranscriptApi as yta\n",
    "import re\n",
    "from googletrans import Translator\n",
    "from gtts import gTTS\n",
    "import os\n",
    "print(\"Wait karo...🙂\")\n",
    "vid_id = 'QGUm92osrXY'\n",
    "data = yta.get_transcript(vid_id)\n",
    "transcript = ''\n",
    "for value in data:\n",
    "    for key, val in value.items():\n",
    "        if key=='text':\n",
    "            transcript += val\n",
    "l = transcript.splitlines()\n",
    "final = \" \".join(l)\n",
    "file = open(\"C:/Users/sjeev/Documents/Python/Jupyter_nbook/Intern/vid_text/transs.txt\", 'w')\n",
    "file.write(final)\n",
    "file.close()\n",
    "print(\"Transcription completed😁\")\n",
    "print(\"Wait karo...🙂\")\n",
    "translator = Translator()\n",
    "with open('C:/Users/sjeev/Documents/Python/Jupyter_nbook/Intern/vid_text/transs.txt', 'r') as file:\n",
    "    english_text = file.read()\n",
    "tx = english_text[:16000]\n",
    "translation = translator.translate(tx, dest='it')\n",
    "file2 = open(\"C:/Users/sjeev/Documents/Python/Jupyter_nbook/Intern/vid_text/italy.txt\", 'w')\n",
    "file2.write(str(translation.text))\n",
    "file2.close();\n",
    "print(\"Translation completed😁\")\n",
    "print(\"Wait karo ( text to audio )...🙂\")\n",
    "with open('C:/Users/sjeev/Documents/Python/Jupyter_nbook/Intern/vid_text/italy.txt', 'r') as file:\n",
    "    english_text = file.read()\n",
    "language = 'de'\n",
    "try:\n",
    "    myobj = gTTS(text=english_text, lang=language, slow=False)\n",
    "    myobj.save(\"C:/Users/sjeev/Documents/Python/Jupyter_nbook/Intern/vid_text/audio.mp3\")\n",
    "    print(\"Done\")\n",
    "except:\n",
    "    print(\"Oru vela irukumooo 🤔\")"
   ]
  },
  {
   "cell_type": "code",
   "execution_count": null,
   "id": "456a4b94",
   "metadata": {},
   "outputs": [],
   "source": []
  }
 ],
 "metadata": {
  "kernelspec": {
   "display_name": "Python 3 (ipykernel)",
   "language": "python",
   "name": "python3"
  },
  "language_info": {
   "codemirror_mode": {
    "name": "ipython",
    "version": 3
   },
   "file_extension": ".py",
   "mimetype": "text/x-python",
   "name": "python",
   "nbconvert_exporter": "python",
   "pygments_lexer": "ipython3",
   "version": "3.11.4"
  }
 },
 "nbformat": 4,
 "nbformat_minor": 5
}
